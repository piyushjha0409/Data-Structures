{
 "cells": [
  {
   "cell_type": "code",
   "execution_count": null,
   "id": "ad5c2b86",
   "metadata": {},
   "outputs": [],
   "source": [
    "#Question 1 of leetcode \n",
    "#approach\n",
    "#finding out the length of the nums1 and nums2\n",
    "#calculate the mid \n",
    "#prev2 = prev1 = None\n",
    "#i = j = 0\n"
   ]
  },
  {
   "cell_type": "code",
   "execution_count": 5,
   "id": "e6edae92",
   "metadata": {},
   "outputs": [
    {
     "data": {
      "text/plain": [
       "1"
      ]
     },
     "execution_count": 5,
     "metadata": {},
     "output_type": "execute_result"
    }
   ],
   "source": [
    "class Solution(object):\n",
    "    def findMedianSortedArrays(self, nums1, nums2):\n",
    "        \"\"\"\n",
    "        :type nums1: List[int]\n",
    "        :type nums2: List[int]\n",
    "        :rtype: float\n",
    "        \"\"\"\n",
    "        m, n = len(nums1), len(nums2)\n",
    "        mid =  (m + n)//2+1\n",
    "        prev1 = prev2 = None\n",
    "        i = j = 0\n",
    "\n",
    "        for _ in range(mid):\n",
    "            prev2 = prev1\n",
    "            if j == n or (i != m and nums1[i] <= nums2[j]):\n",
    "                prev1 = nums1[i]\n",
    "                i += 1\n",
    "            else:\n",
    "                prev2 = nums2[j]\n",
    "                j += 1\n",
    "\n",
    "\n",
    "        if (m+n) % 2:\n",
    "            return prev1\n",
    "        else:\n",
    "             (prev1 + prev2) / 2\n",
    "\n",
    "nums1 = [1,3]\n",
    "nums2 = [2]\n",
    "p1 = Solution()\n",
    "p1.findMedianSortedArrays(nums1,nums2)"
   ]
  },
  {
   "cell_type": "code",
   "execution_count": 9,
   "id": "a662dcda",
   "metadata": {},
   "outputs": [
    {
     "name": "stdout",
     "output_type": "stream",
     "text": [
      "ds\n",
      "fq\n",
      "re\n"
     ]
    }
   ],
   "source": [
    "#Linked list implementation\n",
    "class Node:\n",
    "    def __init__(self, dataVal = None):\n",
    "        self.dataVal = dataVal\n",
    "        self.nextVal = None\n",
    "class SingleLinkedList:\n",
    "    def __init__(self):\n",
    "        self.headVal = None\n",
    "    \n",
    "    #print function   \n",
    "    def listprint(self):\n",
    "        printval = self.headVal\n",
    "        while printval is not None:\n",
    "           print (printval.dataVal)\n",
    "           printval = printval.nextVal\n",
    "\n",
    "list = SingleLinkedList()\n",
    "list.headVal = Node(\"ds\")\n",
    "e2 = Node(\"fq\")\n",
    "e3 = Node(\"re\")\n",
    "\n",
    "#Linked first node to second node\n",
    "list.headVal.nextVal = e2\n",
    "#link the second node to the third node\n",
    "e2.nextVal = e3\n",
    "\n",
    "#printing the list\n",
    "list.listprint()\n"
   ]
  },
  {
   "cell_type": "code",
   "execution_count": 2,
   "id": "603e08cf",
   "metadata": {},
   "outputs": [
    {
     "name": "stdout",
     "output_type": "stream",
     "text": [
      "Mon\n",
      "Tue\n",
      "Wed\n"
     ]
    }
   ],
   "source": [
    "class Node:\n",
    "   def __init__(self, dataval=None):\n",
    "      self.dataval = dataval\n",
    "      self.nextval = None\n",
    "\n",
    "class SLinkedList:\n",
    "   def __init__(self):\n",
    "      self.headval = None\n",
    "\n",
    "   def listprint(self):\n",
    "      printval = self.headval\n",
    "      while printval is not None:\n",
    "         print (printval.dataval)\n",
    "         printval = printval.nextval\n",
    "\n",
    "list = SLinkedList()\n",
    "list.headval = Node(\"Mon\")\n",
    "e2 = Node(\"Tue\")\n",
    "e3 = Node(\"Wed\")\n",
    "\n",
    "# Link first Node to second node\n",
    "list.headval.nextval = e2\n",
    "\n",
    "# Link second Node to third node\n",
    "e2.nextval = e3\n",
    "\n",
    "list.listprint()"
   ]
  },
  {
   "cell_type": "code",
   "execution_count": 5,
   "id": "33dfe938",
   "metadata": {},
   "outputs": [
    {
     "name": "stdout",
     "output_type": "stream",
     "text": [
      "Mon\n",
      "Tue\n",
      "Wed\n",
      "Wed\n",
      "Tue\n",
      "Mon\n"
     ]
    }
   ],
   "source": [
    "#Reversing the Linked List\n",
    "\n",
    "# creation of the linked list \n",
    "class Node:\n",
    "   def __init__(self, dataval=None):\n",
    "      self.dataval = dataval\n",
    "      self.nextval = None\n",
    "\n",
    "class SLinkedList:\n",
    "   def __init__(self):\n",
    "      self.headval = None\n",
    "\n",
    "   def listprint(self):\n",
    "      printval = self.headval\n",
    "      while printval is not None:\n",
    "         print (printval.dataval)\n",
    "         printval = printval.nextval\n",
    "\n",
    "   #function to reverse the linked list\n",
    "   def reverse(self):\n",
    "      prev = None\n",
    "      current = self.headval\n",
    "      while(current is not None):\n",
    "         nextval = current.nextval\n",
    "         current.nextval = prev\n",
    "         prev = current\n",
    "         current = nextval\n",
    "      self.headval = prev\n",
    "\n",
    "\n",
    "list = SLinkedList()\n",
    "list.headval = Node(\"Mon\")\n",
    "e2 = Node(\"Tue\")\n",
    "e3 = Node(\"Wed\")\n",
    "\n",
    "# Link first Node to second node\n",
    "list.headval.nextval = e2\n",
    "\n",
    "# Link second Node to third node\n",
    "e2.nextval = e3\n",
    "\n",
    "list.listprint()\n",
    "list.reverse()\n",
    "print(\"After reversing the list: \")\n",
    "list.listprint()"
   ]
  },
  {
   "cell_type": "code",
   "execution_count": 3,
   "id": "1440456b",
   "metadata": {},
   "outputs": [
    {
     "ename": "TypeError",
     "evalue": "Node() takes no arguments",
     "output_type": "error",
     "traceback": [
      "\u001b[1;31m---------------------------------------------------------------------------\u001b[0m",
      "\u001b[1;31mTypeError\u001b[0m                                 Traceback (most recent call last)",
      "\u001b[1;32m~\\AppData\\Local\\Temp\\ipykernel_8436\\3662926812.py\u001b[0m in \u001b[0;36m<module>\u001b[1;34m\u001b[0m\n\u001b[0;32m     44\u001b[0m \u001b[1;33m\u001b[0m\u001b[0m\n\u001b[0;32m     45\u001b[0m \u001b[0mlist1\u001b[0m \u001b[1;33m=\u001b[0m \u001b[0mSingleLinkedList\u001b[0m\u001b[1;33m(\u001b[0m\u001b[1;33m)\u001b[0m\u001b[1;33m\u001b[0m\u001b[1;33m\u001b[0m\u001b[0m\n\u001b[1;32m---> 46\u001b[1;33m \u001b[0mlist1\u001b[0m\u001b[1;33m.\u001b[0m\u001b[0minsert\u001b[0m\u001b[1;33m(\u001b[0m\u001b[1;36m4\u001b[0m\u001b[1;33m)\u001b[0m\u001b[1;33m\u001b[0m\u001b[1;33m\u001b[0m\u001b[0m\n\u001b[0m\u001b[0;32m     47\u001b[0m \u001b[0mlist1\u001b[0m\u001b[1;33m.\u001b[0m\u001b[0minsert\u001b[0m\u001b[1;33m(\u001b[0m\u001b[1;36m5\u001b[0m\u001b[1;33m)\u001b[0m\u001b[1;33m\u001b[0m\u001b[1;33m\u001b[0m\u001b[0m\n\u001b[0;32m     48\u001b[0m \u001b[0mlist1\u001b[0m\u001b[1;33m.\u001b[0m\u001b[0minsert\u001b[0m\u001b[1;33m(\u001b[0m\u001b[1;36m6\u001b[0m\u001b[1;33m)\u001b[0m\u001b[1;33m\u001b[0m\u001b[1;33m\u001b[0m\u001b[0m\n",
      "\u001b[1;32m~\\AppData\\Local\\Temp\\ipykernel_8436\\3662926812.py\u001b[0m in \u001b[0;36minsert\u001b[1;34m(self, new_data)\u001b[0m\n\u001b[0;32m     10\u001b[0m \u001b[1;33m\u001b[0m\u001b[0m\n\u001b[0;32m     11\u001b[0m     \u001b[1;32mdef\u001b[0m \u001b[0minsert\u001b[0m\u001b[1;33m(\u001b[0m\u001b[0mself\u001b[0m\u001b[1;33m,\u001b[0m \u001b[0mnew_data\u001b[0m\u001b[1;33m)\u001b[0m\u001b[1;33m:\u001b[0m \u001b[1;31m#inserting at head\u001b[0m\u001b[1;33m\u001b[0m\u001b[1;33m\u001b[0m\u001b[0m\n\u001b[1;32m---> 12\u001b[1;33m         \u001b[0mnew_node\u001b[0m \u001b[1;33m=\u001b[0m \u001b[0mNode\u001b[0m\u001b[1;33m(\u001b[0m\u001b[0mnew_data\u001b[0m\u001b[1;33m)\u001b[0m\u001b[1;33m\u001b[0m\u001b[1;33m\u001b[0m\u001b[0m\n\u001b[0m\u001b[0;32m     13\u001b[0m         \u001b[0mnew_node\u001b[0m\u001b[1;33m.\u001b[0m\u001b[0mnextval\u001b[0m \u001b[1;33m=\u001b[0m \u001b[0mself\u001b[0m\u001b[1;33m.\u001b[0m\u001b[0mheadval\u001b[0m\u001b[1;33m\u001b[0m\u001b[1;33m\u001b[0m\u001b[0m\n\u001b[0;32m     14\u001b[0m         \u001b[0mself\u001b[0m\u001b[1;33m.\u001b[0m\u001b[0mheadval\u001b[0m \u001b[1;33m=\u001b[0m \u001b[0mnew_node\u001b[0m\u001b[1;33m\u001b[0m\u001b[1;33m\u001b[0m\u001b[0m\n",
      "\u001b[1;31mTypeError\u001b[0m: Node() takes no arguments"
     ]
    }
   ],
   "source": [
    "# Deleting the node in the linked list\n",
    "class Node:\n",
    "    def ___init__(self, dataval):\n",
    "        self.dataval = dataval\n",
    "        self.nextval = None\n",
    "\n",
    "class SingleLinkedList:\n",
    "    def __init__(self):\n",
    "        self.headval = None\n",
    "    \n",
    "    def insert(self, new_data): #inserting at head\n",
    "        new_node = Node(new_data)\n",
    "        new_node.nextval = self.headval\n",
    "        self.headval = new_node\n",
    "    \n",
    "    def deletionAtPos(self, position):\n",
    "        # first condition \n",
    "        if self.headval is None:\n",
    "            return \n",
    "        if position == 0:\n",
    "            self.headval = self.headval.nextval\n",
    "            return self.headval\n",
    "        # when we have to remove it from part position\n",
    "        index = 0\n",
    "        current = self.headval\n",
    "        prev = self.headval\n",
    "        temp = self.headval\n",
    "\n",
    "        while current is not None:\n",
    "            if index == position:\n",
    "                temp = current.nextval\n",
    "                break\n",
    "            prev = current\n",
    "            current = current.next\n",
    "            index += 1\n",
    "        prev.next = temp\n",
    "        return prev\n",
    "    \n",
    "    def printlist(self):\n",
    "        temp = self.headval\n",
    "        while temp is not None:\n",
    "            print(temp.dataval)\n",
    "            temp = temp.nextval\n",
    "\n",
    "list1 = SingleLinkedList()\n",
    "list1.insert(4)\n",
    "list1.insert(5)\n",
    "list1.insert(6)\n",
    "list1.printlist()"
   ]
  }
 ],
 "metadata": {
  "kernelspec": {
   "display_name": "Python 3.7.9 64-bit",
   "language": "python",
   "name": "python3"
  },
  "language_info": {
   "codemirror_mode": {
    "name": "ipython",
    "version": 3
   },
   "file_extension": ".py",
   "mimetype": "text/x-python",
   "name": "python",
   "nbconvert_exporter": "python",
   "pygments_lexer": "ipython3",
   "version": "3.7.9"
  },
  "vscode": {
   "interpreter": {
    "hash": "652505b81b6d673930a9a50869bede614e2da6fcc4cef6194ee141d9b1a003fe"
   }
  }
 },
 "nbformat": 4,
 "nbformat_minor": 5
}
